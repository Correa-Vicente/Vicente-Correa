{
 "cells": [
  {
   "cell_type": "markdown",
   "metadata": {},
   "source": [
    "#El programa debe pedir al usuario que ingrese el número de estudiantes.\n",
    "Para cada estudiante, el programa debe pedir al usuario que ingrese su nombre.\n",
    "Luego, el programa debe pedir al usuario que ingrese el número de asignaturas.\n",
    "Para cada asignatura, el programa debe pedir al usuario que ingrese el nombre de la asignatura y la calificación obtenida.\n",
    "El programa debe calcular el promedio de calificaciones para cada estudiante.\n",
    "Finalmente, el programa debe imprimir el nombre del estudiante, su promedio y un mensaje indicando si ha aprobado o reprobado."
   ]
  },
  {
   "cell_type": "code",
   "execution_count": 21,
   "metadata": {},
   "outputs": [
    {
     "name": "stdout",
     "output_type": "stream",
     "text": [
      "Nombre: Vicente\n",
      " Promedio: 6.0\n",
      " Estado: Aprobado\n",
      "Nombre: Joaquín\n",
      " Promedio: 5.266666666666667\n",
      " Estado: Reprobado\n"
     ]
    }
   ],
   "source": [
    "num_estudiantes=int(input('Ingrese el número de estudiantes: '))\n",
    "lista_estudiantes=[]\n",
    "\n",
    "for i in range(num_estudiantes):\n",
    "    nombre = input('Ingrese el nombre del estudiante: ')\n",
    "    num_asignaturas=int(input('Ingrese el número de asignaturas '))\n",
    "    notas=[]\n",
    "    for i in range(num_asignaturas):\n",
    "        asignatura=input('Ingrese el nombre de la asignatura: ')\n",
    "        nota=float(input('Ingrese la nota de la asignatura: '))\n",
    "        notas.append(nota)\n",
    "    promedio_estudiante=sum(notas)/num_asignaturas\n",
    "    if promedio_estudiante >= 6.0:\n",
    "        estado_estudiante = \"Aprobado\"\n",
    "    else:\n",
    "        estado_estudiante = \"Reprobado\"\n",
    "    print(f\"Nombre: {nombre}\\n Promedio: {promedio_estudiante}\\n Estado: {estado_estudiante}\")"
   ]
  },
  {
   "cell_type": "code",
   "execution_count": null,
   "metadata": {},
   "outputs": [],
   "source": []
  }
 ],
 "metadata": {
  "kernelspec": {
   "display_name": "Python 3",
   "language": "python",
   "name": "python3"
  },
  "language_info": {
   "codemirror_mode": {
    "name": "ipython",
    "version": 3
   },
   "file_extension": ".py",
   "mimetype": "text/x-python",
   "name": "python",
   "nbconvert_exporter": "python",
   "pygments_lexer": "ipython3",
   "version": "3.12.2"
  }
 },
 "nbformat": 4,
 "nbformat_minor": 2
}
